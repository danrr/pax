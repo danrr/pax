{
 "cells": [
  {
   "cell_type": "markdown",
   "metadata": {},
   "source": [
    "# Pax: Proof of Concept\n",
    "\n",
    "This notebook serves as a minimal working version for all concepts touched upon in `pax`. It does not create meaningful results, it simply exists to familiarize yourselfs with the code. If you are looking for working examples, please refer to the repository. There are many working examples of runners, environments and agents."
   ]
  },
  {
   "cell_type": "markdown",
   "metadata": {},
   "source": [
    "## Environments: A simple rollout\n",
    "\n",
    "Let's have a look at how you typically initial environments, how to parameterize them and how to vmap them. In `pax`, environments are initialized in the `experiments.py` file. Rollouts are usually defined in a runners file, e.g. `runners/runner_marl.py`"
   ]
  },
  {
   "cell_type": "code",
   "metadata": {
    "ExecuteTime": {
     "end_time": "2024-04-25T15:10:57.057390Z",
     "start_time": "2024-04-25T15:10:46.633512Z"
    }
   },
   "source": [
    "from pax.envs.iterated_matrix_game import (\n",
    "    IteratedMatrixGame,\n",
    "    EnvParams,\n",
    ")\n",
    "\n",
    "import jax\n",
    "import jax.numpy as jnp\n",
    "\n",
    "devices = jax.local_devices()\n",
    "print(devices)\n",
    "# batch over env initalisations\n",
    "num_envs = 2\n",
    "payoff = [[2, 2], [0, 3], [3, 0], [1, 1]]\n",
    "rollout_length = 50\n",
    "\n",
    "rng = jnp.concatenate(\n",
    "    [jax.random.PRNGKey(0), jax.random.PRNGKey(1)]\n",
    ").reshape(num_envs, -1)\n",
    "\n",
    "env = IteratedMatrixGame(num_inner_steps=rollout_length, num_outer_steps=1)\n",
    "env_params = EnvParams(payoff_matrix=payoff)\n",
    "\n",
    "action = jnp.ones((num_envs,), dtype=jnp.float32)\n",
    "\n",
    "# we want to batch over rngs, actions\n",
    "env.step = jax.vmap(\n",
    "    env.step,\n",
    "    in_axes=(0, None, 0, None),\n",
    "    out_axes=(0, None, 0, 0, 0),\n",
    ")\n",
    "env.reset = jax.vmap(\n",
    "    env.reset, in_axes=(0, None), out_axes=(0, None))\n",
    "obs, env_state = env.reset(rng, env_params)\n",
    "\n",
    "# let's scan the rollout for speed\n",
    "def rollout(carry, unused):\n",
    "    last_obs, env_state, env_rng = carry\n",
    "    actions = (action, action)\n",
    "    obs, env_state, rewards, done, info = env.step(\n",
    "        env_rng, env_state, actions, env_params\n",
    "    )\n",
    "\n",
    "    return (obs, env_state, env_rng), (\n",
    "        obs,\n",
    "        actions,\n",
    "        rewards,\n",
    "        done,\n",
    "    )\n",
    "\n",
    "\n",
    "final_state, trajectory = jax.lax.scan(\n",
    "    rollout, (obs, env_state, rng), None, rollout_length\n",
    ")"
   ],
   "outputs": [
    {
     "name": "stderr",
     "output_type": "stream",
     "text": [
      "Platform 'METAL' is experimental and not all JAX functionality may be correctly supported!\n",
      "2024-04-25 16:10:56.737656: W pjrt_plugin/src/mps_client.cc:563] WARNING: JAX Apple GPU support is experimental and not all JAX functionality is correctly supported!\n"
     ]
    },
    {
     "name": "stdout",
     "output_type": "stream",
     "text": [
      "Metal device set to: Apple M1 Pro\n",
      "[METAL(id=0)]\n"
     ]
    }
   ],
   "execution_count": 2
  },
  {
   "cell_type": "markdown",
   "metadata": {},
   "source": [
    "## Agents\n",
    "\n",
    "Now let's define an agent, in this case a PPO agent. Our ppo agent requires some arguments to get initialized. These are typically defined in a `.yaml` file, as we use `Hydra` to keep track of hyperparameters. They are stored in `conf/experiment/`. For a simple example, have a look at `conf/experiment/ipd/ppo_v_tft.yaml`, that defines an experiment where a PPO agent plays against a TitForTat agent in the Iterated Prisoner's Dilemma."
   ]
  },
  {
   "cell_type": "code",
   "metadata": {
    "ExecuteTime": {
     "end_time": "2024-04-25T15:10:57.061564Z",
     "start_time": "2024-04-25T15:10:57.058419Z"
    }
   },
   "source": [
    "from typing import NamedTuple\n",
    "\n",
    "class EnvArgs(NamedTuple):\n",
    "    env_id='iterated_matrix_game'\n",
    "    runner='rl'\n",
    "    num_envs=num_envs\n",
    "\n",
    "class PPOArgs(NamedTuple):\n",
    "    num_minibatches=10\n",
    "    num_epochs=4\n",
    "    gamma=0.96\n",
    "    gae_lambda=0.95\n",
    "    ppo_clipping_epsilon=0.2\n",
    "    value_coeff=0.5\n",
    "    clip_value=True\n",
    "    max_gradient_norm=0.5\n",
    "    anneal_entropy=True\n",
    "    entropy_coeff_start=0.2\n",
    "    entropy_coeff_horizon=5e5\n",
    "    entropy_coeff_end=0.01\n",
    "    lr_scheduling=True\n",
    "    learning_rate=2.5e-2\n",
    "    adam_epsilon=1e-5\n",
    "    with_memory=False\n",
    "    with_cnn=False\n",
    "    hidden_size=16"
   ],
   "outputs": [],
   "execution_count": 3
  },
  {
   "cell_type": "markdown",
   "metadata": {},
   "source": [
    "After having defined the arguments, we're ready to initialize the agents. We also vmap over the reset, policy and update function. We do not vmap over the initialisation, as the initialisation already assumes that we are running over multiple environments. If you were to add additional batch dimensions, you'd want to vmap over the initialisation too. The vmapping of the agents is typically done in the runner file."
   ]
  },
  {
   "cell_type": "code",
   "metadata": {
    "ExecuteTime": {
     "end_time": "2024-04-25T15:10:58.128338Z",
     "start_time": "2024-04-25T15:10:57.062151Z"
    }
   },
   "source": [
    "import jax.numpy as jnp\n",
    "from pax.agents.ppo.ppo import make_agent\n",
    "\n",
    "args = EnvArgs()\n",
    "agent_args = PPOArgs()\n",
    "agent = make_agent(args, \n",
    "    agent_args=agent_args,\n",
    "    obs_spec=env.observation_space(env_params).n,\n",
    "    action_spec=env.num_actions,\n",
    "    seed=42,\n",
    "    num_iterations=1e3,\n",
    "    player_id=0,\n",
    "    tabular=False,)\n",
    "\n",
    "\n",
    "# batch MemoryState not TrainingState\n",
    "agent.batch_reset = jax.jit(\n",
    "    jax.vmap(agent.reset_memory, (0, None), 0),\n",
    "    static_argnums=1,\n",
    ")\n",
    "\n",
    "agent.batch_policy = jax.jit(\n",
    "    jax.vmap(agent._policy, (None, 0, 0), (0, None, 0))\n",
    ")\n",
    "\n",
    "agent.batch_update = jax.vmap(\n",
    "    agent.update, (0, 0, None, 0), (None, 0, 0)\n",
    ")"
   ],
   "outputs": [
    {
     "name": "stdout",
     "output_type": "stream",
     "text": [
      "Making network for iterated_matrix_game\n"
     ]
    },
    {
     "ename": "XlaRuntimeError",
     "evalue": "UNKNOWN: /Users/dan/projects/pax/.venv/lib/python3.11/site-packages/haiku/_src/initializers.py:292:19: error: failed to legalize operation 'mhlo.custom_call'\n    q_mat, r_mat = jnp.linalg.qr(norm_dst)\n                  ^\n/Users/dan/projects/pax/.venv/lib/python3.11/site-packages/haiku/_src/base.py:658:16: note: called from\n        param = init(shape, dtype)\n               ^\n/Users/dan/projects/pax/.venv/lib/python3.11/site-packages/haiku/_src/basic.py:179:8: note: called from\n    w = hk.get_parameter(\"w\", [input_size, output_size], dtype, init=w_init)\n       ^\n/Users/dan/projects/pax/.venv/lib/python3.11/site-packages/haiku/_src/module.py:305:11: note: called from\n    return bound_method(*args, **kwargs)\n          ^\n/Users/dan/projects/pax/.venv/lib/python3.11/site-packages/haiku/_src/module.py:464:12: note: called from\n      out = f(*args, **kwargs)\n           ^\n/Users/dan/projects/pax/.venv/lib/python3.11/site-packages/haiku/_src/nets/mlp.py:115:12: note: called from\n      out = layer(out)\n           ^\n/Users/dan/projects/pax/.venv/lib/python3.11/site-packages/haiku/_src/module.py:305:11: note: called from\n    return bound_method(*args, **kwargs)\n          ^\n/Users/dan/projects/pax/.venv/lib/python3.11/site-packages/haiku/_src/module.py:464:12: note: called from\n      out = f(*args, **kwargs)\n           ^\n/Users/dan/projects/pax/.venv/lib/python3.11/site-packages/haiku/_src/basic.py:126:14: note: called from\n        out = layer(out, *args, **kwargs)\n             ^\n/Users/dan/projects/pax/.venv/lib/python3.11/site-packages/haiku/_src/module.py:305:11: note: called from\n    return bound_method(*args, **kwargs)\n          ^\n/Users/dan/projects/pax/.venv/lib/python3.11/site-packages/haiku/_src/initializers.py:292:19: note: see current operation: %4:2 = \"mhlo.custom_call\"(%arg0) {api_version = 1 : i32, backend_config = \"\", call_target_name = \"Qr\", called_computations = [], has_side_effect = false} : (tensor<16x5xf32>) -> (tensor<16x5xf32>, tensor<5xf32>)\n    q_mat, r_mat = jnp.linalg.qr(norm_dst)\n                  ^\n",
     "output_type": "error",
     "traceback": [
      "\u001B[0;31m---------------------------------------------------------------------------\u001B[0m",
      "\u001B[0;31mXlaRuntimeError\u001B[0m                           Traceback (most recent call last)",
      "Cell \u001B[0;32mIn[4], line 6\u001B[0m\n\u001B[1;32m      4\u001B[0m args \u001B[38;5;241m=\u001B[39m EnvArgs()\n\u001B[1;32m      5\u001B[0m agent_args \u001B[38;5;241m=\u001B[39m PPOArgs()\n\u001B[0;32m----> 6\u001B[0m agent \u001B[38;5;241m=\u001B[39m \u001B[43mmake_agent\u001B[49m\u001B[43m(\u001B[49m\u001B[43margs\u001B[49m\u001B[43m,\u001B[49m\u001B[43m \u001B[49m\n\u001B[1;32m      7\u001B[0m \u001B[43m    \u001B[49m\u001B[43magent_args\u001B[49m\u001B[38;5;241;43m=\u001B[39;49m\u001B[43magent_args\u001B[49m\u001B[43m,\u001B[49m\n\u001B[1;32m      8\u001B[0m \u001B[43m    \u001B[49m\u001B[43mobs_spec\u001B[49m\u001B[38;5;241;43m=\u001B[39;49m\u001B[43menv\u001B[49m\u001B[38;5;241;43m.\u001B[39;49m\u001B[43mobservation_space\u001B[49m\u001B[43m(\u001B[49m\u001B[43menv_params\u001B[49m\u001B[43m)\u001B[49m\u001B[38;5;241;43m.\u001B[39;49m\u001B[43mn\u001B[49m\u001B[43m,\u001B[49m\n\u001B[1;32m      9\u001B[0m \u001B[43m    \u001B[49m\u001B[43maction_spec\u001B[49m\u001B[38;5;241;43m=\u001B[39;49m\u001B[43menv\u001B[49m\u001B[38;5;241;43m.\u001B[39;49m\u001B[43mnum_actions\u001B[49m\u001B[43m,\u001B[49m\n\u001B[1;32m     10\u001B[0m \u001B[43m    \u001B[49m\u001B[43mseed\u001B[49m\u001B[38;5;241;43m=\u001B[39;49m\u001B[38;5;241;43m42\u001B[39;49m\u001B[43m,\u001B[49m\n\u001B[1;32m     11\u001B[0m \u001B[43m    \u001B[49m\u001B[43mnum_iterations\u001B[49m\u001B[38;5;241;43m=\u001B[39;49m\u001B[38;5;241;43m1e3\u001B[39;49m\u001B[43m,\u001B[49m\n\u001B[1;32m     12\u001B[0m \u001B[43m    \u001B[49m\u001B[43mplayer_id\u001B[49m\u001B[38;5;241;43m=\u001B[39;49m\u001B[38;5;241;43m0\u001B[39;49m\u001B[43m,\u001B[49m\n\u001B[1;32m     13\u001B[0m \u001B[43m    \u001B[49m\u001B[43mtabular\u001B[49m\u001B[38;5;241;43m=\u001B[39;49m\u001B[38;5;28;43;01mFalse\u001B[39;49;00m\u001B[43m,\u001B[49m\u001B[43m)\u001B[49m\n\u001B[1;32m     16\u001B[0m \u001B[38;5;66;03m# batch MemoryState not TrainingState\u001B[39;00m\n\u001B[1;32m     17\u001B[0m agent\u001B[38;5;241m.\u001B[39mbatch_reset \u001B[38;5;241m=\u001B[39m jax\u001B[38;5;241m.\u001B[39mjit(\n\u001B[1;32m     18\u001B[0m     jax\u001B[38;5;241m.\u001B[39mvmap(agent\u001B[38;5;241m.\u001B[39mreset_memory, (\u001B[38;5;241m0\u001B[39m, \u001B[38;5;28;01mNone\u001B[39;00m), \u001B[38;5;241m0\u001B[39m),\n\u001B[1;32m     19\u001B[0m     static_argnums\u001B[38;5;241m=\u001B[39m\u001B[38;5;241m1\u001B[39m,\n\u001B[1;32m     20\u001B[0m )\n",
      "File \u001B[0;32m~/projects/pax/pax/agents/ppo/ppo.py:573\u001B[0m, in \u001B[0;36mmake_agent\u001B[0;34m(args, agent_args, obs_spec, action_spec, seed, num_iterations, player_id, tabular)\u001B[0m\n\u001B[1;32m    568\u001B[0m     \u001B[38;5;66;03m# optimizer = optax.inject_hyperparams(optimizer)(learning_rate=agent_args.learning_rate)\u001B[39;00m\n\u001B[1;32m    569\u001B[0m \n\u001B[1;32m    570\u001B[0m \u001B[38;5;66;03m# Random key\u001B[39;00m\n\u001B[1;32m    571\u001B[0m random_key \u001B[38;5;241m=\u001B[39m jax\u001B[38;5;241m.\u001B[39mrandom\u001B[38;5;241m.\u001B[39mPRNGKey(seed\u001B[38;5;241m=\u001B[39mseed)\n\u001B[0;32m--> 573\u001B[0m agent \u001B[38;5;241m=\u001B[39m \u001B[43mPPO\u001B[49m\u001B[43m(\u001B[49m\n\u001B[1;32m    574\u001B[0m \u001B[43m    \u001B[49m\u001B[43mnetwork\u001B[49m\u001B[38;5;241;43m=\u001B[39;49m\u001B[43mnetwork\u001B[49m\u001B[43m,\u001B[49m\n\u001B[1;32m    575\u001B[0m \u001B[43m    \u001B[49m\u001B[43moptimizer\u001B[49m\u001B[38;5;241;43m=\u001B[39;49m\u001B[43moptimizer\u001B[49m\u001B[43m,\u001B[49m\n\u001B[1;32m    576\u001B[0m \u001B[43m    \u001B[49m\u001B[43mrandom_key\u001B[49m\u001B[38;5;241;43m=\u001B[39;49m\u001B[43mrandom_key\u001B[49m\u001B[43m,\u001B[49m\n\u001B[1;32m    577\u001B[0m \u001B[43m    \u001B[49m\u001B[43mobs_spec\u001B[49m\u001B[38;5;241;43m=\u001B[39;49m\u001B[43mobs_spec\u001B[49m\u001B[43m,\u001B[49m\n\u001B[1;32m    578\u001B[0m \u001B[43m    \u001B[49m\u001B[43mnum_envs\u001B[49m\u001B[38;5;241;43m=\u001B[39;49m\u001B[43margs\u001B[49m\u001B[38;5;241;43m.\u001B[39;49m\u001B[43mnum_envs\u001B[49m\u001B[43m,\u001B[49m\n\u001B[1;32m    579\u001B[0m \u001B[43m    \u001B[49m\u001B[43mnum_minibatches\u001B[49m\u001B[38;5;241;43m=\u001B[39;49m\u001B[43magent_args\u001B[49m\u001B[38;5;241;43m.\u001B[39;49m\u001B[43mnum_minibatches\u001B[49m\u001B[43m,\u001B[49m\n\u001B[1;32m    580\u001B[0m \u001B[43m    \u001B[49m\u001B[43mnum_epochs\u001B[49m\u001B[38;5;241;43m=\u001B[39;49m\u001B[43magent_args\u001B[49m\u001B[38;5;241;43m.\u001B[39;49m\u001B[43mnum_epochs\u001B[49m\u001B[43m,\u001B[49m\n\u001B[1;32m    581\u001B[0m \u001B[43m    \u001B[49m\u001B[43mclip_value\u001B[49m\u001B[38;5;241;43m=\u001B[39;49m\u001B[43magent_args\u001B[49m\u001B[38;5;241;43m.\u001B[39;49m\u001B[43mclip_value\u001B[49m\u001B[43m,\u001B[49m\n\u001B[1;32m    582\u001B[0m \u001B[43m    \u001B[49m\u001B[43mvalue_coeff\u001B[49m\u001B[38;5;241;43m=\u001B[39;49m\u001B[43magent_args\u001B[49m\u001B[38;5;241;43m.\u001B[39;49m\u001B[43mvalue_coeff\u001B[49m\u001B[43m,\u001B[49m\n\u001B[1;32m    583\u001B[0m \u001B[43m    \u001B[49m\u001B[43manneal_entropy\u001B[49m\u001B[38;5;241;43m=\u001B[39;49m\u001B[43magent_args\u001B[49m\u001B[38;5;241;43m.\u001B[39;49m\u001B[43manneal_entropy\u001B[49m\u001B[43m,\u001B[49m\n\u001B[1;32m    584\u001B[0m \u001B[43m    \u001B[49m\u001B[43mentropy_coeff_start\u001B[49m\u001B[38;5;241;43m=\u001B[39;49m\u001B[43magent_args\u001B[49m\u001B[38;5;241;43m.\u001B[39;49m\u001B[43mentropy_coeff_start\u001B[49m\u001B[43m,\u001B[49m\n\u001B[1;32m    585\u001B[0m \u001B[43m    \u001B[49m\u001B[43mentropy_coeff_end\u001B[49m\u001B[38;5;241;43m=\u001B[39;49m\u001B[43magent_args\u001B[49m\u001B[38;5;241;43m.\u001B[39;49m\u001B[43mentropy_coeff_end\u001B[49m\u001B[43m,\u001B[49m\n\u001B[1;32m    586\u001B[0m \u001B[43m    \u001B[49m\u001B[43mentropy_coeff_horizon\u001B[49m\u001B[38;5;241;43m=\u001B[39;49m\u001B[43magent_args\u001B[49m\u001B[38;5;241;43m.\u001B[39;49m\u001B[43mentropy_coeff_horizon\u001B[49m\u001B[43m,\u001B[49m\n\u001B[1;32m    587\u001B[0m \u001B[43m    \u001B[49m\u001B[43mppo_clipping_epsilon\u001B[49m\u001B[38;5;241;43m=\u001B[39;49m\u001B[43magent_args\u001B[49m\u001B[38;5;241;43m.\u001B[39;49m\u001B[43mppo_clipping_epsilon\u001B[49m\u001B[43m,\u001B[49m\n\u001B[1;32m    588\u001B[0m \u001B[43m    \u001B[49m\u001B[43mgamma\u001B[49m\u001B[38;5;241;43m=\u001B[39;49m\u001B[43magent_args\u001B[49m\u001B[38;5;241;43m.\u001B[39;49m\u001B[43mgamma\u001B[49m\u001B[43m,\u001B[49m\n\u001B[1;32m    589\u001B[0m \u001B[43m    \u001B[49m\u001B[43mgae_lambda\u001B[49m\u001B[38;5;241;43m=\u001B[39;49m\u001B[43magent_args\u001B[49m\u001B[38;5;241;43m.\u001B[39;49m\u001B[43mgae_lambda\u001B[49m\u001B[43m,\u001B[49m\n\u001B[1;32m    590\u001B[0m \u001B[43m    \u001B[49m\u001B[43mtabular\u001B[49m\u001B[38;5;241;43m=\u001B[39;49m\u001B[43mtabular\u001B[49m\u001B[43m,\u001B[49m\n\u001B[1;32m    591\u001B[0m \u001B[43m    \u001B[49m\u001B[43mplayer_id\u001B[49m\u001B[38;5;241;43m=\u001B[39;49m\u001B[43mplayer_id\u001B[49m\u001B[43m,\u001B[49m\n\u001B[1;32m    592\u001B[0m \u001B[43m\u001B[49m\u001B[43m)\u001B[49m\n\u001B[1;32m    593\u001B[0m \u001B[38;5;28;01mreturn\u001B[39;00m agent\n",
      "File \u001B[0;32m~/projects/pax/pax/agents/ppo/ppo.py:414\u001B[0m, in \u001B[0;36mPPO.__init__\u001B[0;34m(self, network, optimizer, random_key, obs_spec, num_envs, num_minibatches, num_epochs, clip_value, value_coeff, anneal_entropy, entropy_coeff_start, entropy_coeff_end, entropy_coeff_horizon, ppo_clipping_epsilon, gamma, gae_lambda, tabular, player_id)\u001B[0m\n\u001B[1;32m    412\u001B[0m \u001B[38;5;66;03m# Initialise training state (parameters, optimiser state, extras).\u001B[39;00m\n\u001B[1;32m    413\u001B[0m \u001B[38;5;28mself\u001B[39m\u001B[38;5;241m.\u001B[39mmake_initial_state \u001B[38;5;241m=\u001B[39m make_initial_state\n\u001B[0;32m--> 414\u001B[0m \u001B[38;5;28mself\u001B[39m\u001B[38;5;241m.\u001B[39m_state, \u001B[38;5;28mself\u001B[39m\u001B[38;5;241m.\u001B[39m_mem \u001B[38;5;241m=\u001B[39m \u001B[43mmake_initial_state\u001B[49m\u001B[43m(\u001B[49m\u001B[43mrandom_key\u001B[49m\u001B[43m,\u001B[49m\u001B[43m \u001B[49m\u001B[43mjnp\u001B[49m\u001B[38;5;241;43m.\u001B[39;49m\u001B[43mzeros\u001B[49m\u001B[43m(\u001B[49m\u001B[38;5;241;43m1\u001B[39;49m\u001B[43m)\u001B[49m\u001B[43m)\u001B[49m\n\u001B[1;32m    415\u001B[0m \u001B[38;5;28mself\u001B[39m\u001B[38;5;241m.\u001B[39m_prepare_batch \u001B[38;5;241m=\u001B[39m jax\u001B[38;5;241m.\u001B[39mjit(prepare_batch)\n\u001B[1;32m    416\u001B[0m \u001B[38;5;28mself\u001B[39m\u001B[38;5;241m.\u001B[39m_sgd_step \u001B[38;5;241m=\u001B[39m jax\u001B[38;5;241m.\u001B[39mjit(sgd_step)\n",
      "File \u001B[0;32m~/projects/pax/pax/agents/ppo/ppo.py:376\u001B[0m, in \u001B[0;36mPPO.__init__.<locals>.make_initial_state\u001B[0;34m(key, hidden)\u001B[0m\n\u001B[1;32m    373\u001B[0m     dummy_obs \u001B[38;5;241m=\u001B[39m jnp\u001B[38;5;241m.\u001B[39mzeros(shape\u001B[38;5;241m=\u001B[39mobs_spec)\n\u001B[1;32m    375\u001B[0m dummy_obs \u001B[38;5;241m=\u001B[39m utils\u001B[38;5;241m.\u001B[39madd_batch_dim(dummy_obs)\n\u001B[0;32m--> 376\u001B[0m initial_params \u001B[38;5;241m=\u001B[39m \u001B[43mnetwork\u001B[49m\u001B[38;5;241;43m.\u001B[39;49m\u001B[43minit\u001B[49m\u001B[43m(\u001B[49m\u001B[43msubkey\u001B[49m\u001B[43m,\u001B[49m\u001B[43m \u001B[49m\u001B[43mdummy_obs\u001B[49m\u001B[43m)\u001B[49m\n\u001B[1;32m    377\u001B[0m initial_opt_state \u001B[38;5;241m=\u001B[39m optimizer\u001B[38;5;241m.\u001B[39minit(initial_params)\n\u001B[1;32m    378\u001B[0m \u001B[38;5;28mself\u001B[39m\u001B[38;5;241m.\u001B[39moptimizer \u001B[38;5;241m=\u001B[39m optimizer\n",
      "File \u001B[0;32m~/projects/pax/.venv/lib/python3.11/site-packages/haiku/_src/transform.py:166\u001B[0m, in \u001B[0;36mwithout_state.<locals>.init_fn\u001B[0;34m(*args, **kwargs)\u001B[0m\n\u001B[1;32m    165\u001B[0m \u001B[38;5;28;01mdef\u001B[39;00m \u001B[38;5;21minit_fn\u001B[39m(\u001B[38;5;241m*\u001B[39margs, \u001B[38;5;241m*\u001B[39m\u001B[38;5;241m*\u001B[39mkwargs) \u001B[38;5;241m-\u001B[39m\u001B[38;5;241m>\u001B[39m hk\u001B[38;5;241m.\u001B[39mMutableParams:\n\u001B[0;32m--> 166\u001B[0m   params, state \u001B[38;5;241m=\u001B[39m \u001B[43mf\u001B[49m\u001B[38;5;241;43m.\u001B[39;49m\u001B[43minit\u001B[49m\u001B[43m(\u001B[49m\u001B[38;5;241;43m*\u001B[39;49m\u001B[43margs\u001B[49m\u001B[43m,\u001B[49m\u001B[43m \u001B[49m\u001B[38;5;241;43m*\u001B[39;49m\u001B[38;5;241;43m*\u001B[39;49m\u001B[43mkwargs\u001B[49m\u001B[43m)\u001B[49m\n\u001B[1;32m    167\u001B[0m   \u001B[38;5;28;01mif\u001B[39;00m state:\n\u001B[1;32m    168\u001B[0m     \u001B[38;5;28;01mraise\u001B[39;00m base\u001B[38;5;241m.\u001B[39mNonEmptyStateError(\n\u001B[1;32m    169\u001B[0m         \u001B[38;5;124m\"\u001B[39m\u001B[38;5;124mIf your transformed function uses `hk.\u001B[39m\u001B[38;5;124m{\u001B[39m\u001B[38;5;124mget,set}_state` then use \u001B[39m\u001B[38;5;124m\"\u001B[39m\n\u001B[1;32m    170\u001B[0m         \u001B[38;5;124m\"\u001B[39m\u001B[38;5;124m`hk.transform_with_state`.\u001B[39m\u001B[38;5;124m\"\u001B[39m)\n",
      "File \u001B[0;32m~/projects/pax/.venv/lib/python3.11/site-packages/haiku/_src/transform.py:422\u001B[0m, in \u001B[0;36mtransform_with_state.<locals>.init_fn\u001B[0;34m(rng, *args, **kwargs)\u001B[0m\n\u001B[1;32m    420\u001B[0m \u001B[38;5;28;01mwith\u001B[39;00m base\u001B[38;5;241m.\u001B[39mnew_context(rng\u001B[38;5;241m=\u001B[39mrng) \u001B[38;5;28;01mas\u001B[39;00m ctx:\n\u001B[1;32m    421\u001B[0m   \u001B[38;5;28;01mtry\u001B[39;00m:\n\u001B[0;32m--> 422\u001B[0m     \u001B[43mf\u001B[49m\u001B[43m(\u001B[49m\u001B[38;5;241;43m*\u001B[39;49m\u001B[43margs\u001B[49m\u001B[43m,\u001B[49m\u001B[43m \u001B[49m\u001B[38;5;241;43m*\u001B[39;49m\u001B[38;5;241;43m*\u001B[39;49m\u001B[43mkwargs\u001B[49m\u001B[43m)\u001B[49m\n\u001B[1;32m    423\u001B[0m   \u001B[38;5;28;01mexcept\u001B[39;00m jax\u001B[38;5;241m.\u001B[39merrors\u001B[38;5;241m.\u001B[39mUnexpectedTracerError \u001B[38;5;28;01mas\u001B[39;00m e:\n\u001B[1;32m    424\u001B[0m     \u001B[38;5;28;01mraise\u001B[39;00m jax\u001B[38;5;241m.\u001B[39merrors\u001B[38;5;241m.\u001B[39mUnexpectedTracerError(unexpected_tracer_hint) \u001B[38;5;28;01mfrom\u001B[39;00m \u001B[38;5;21;01me\u001B[39;00m\n",
      "File \u001B[0;32m~/projects/pax/pax/agents/ppo/networks.py:353\u001B[0m, in \u001B[0;36mmake_ipd_network.<locals>.forward_fn\u001B[0;34m(inputs)\u001B[0m\n\u001B[1;32m    340\u001B[0m     layers\u001B[38;5;241m.\u001B[39mextend(\n\u001B[1;32m    341\u001B[0m         [\n\u001B[1;32m    342\u001B[0m             hk\u001B[38;5;241m.\u001B[39mnets\u001B[38;5;241m.\u001B[39mMLP(\n\u001B[0;32m   (...)\u001B[0m\n\u001B[1;32m    350\u001B[0m         ]\n\u001B[1;32m    351\u001B[0m     )\n\u001B[1;32m    352\u001B[0m policy_value_network \u001B[38;5;241m=\u001B[39m hk\u001B[38;5;241m.\u001B[39mSequential(layers)\n\u001B[0;32m--> 353\u001B[0m \u001B[38;5;28;01mreturn\u001B[39;00m \u001B[43mpolicy_value_network\u001B[49m\u001B[43m(\u001B[49m\u001B[43minputs\u001B[49m\u001B[43m)\u001B[49m\n",
      "File \u001B[0;32m~/projects/pax/.venv/lib/python3.11/site-packages/haiku/_src/module.py:464\u001B[0m, in \u001B[0;36mwrap_method.<locals>.wrapped\u001B[0;34m(self, *args, **kwargs)\u001B[0m\n\u001B[1;32m    461\u001B[0m   \u001B[38;5;28;01mif\u001B[39;00m method_name \u001B[38;5;241m!=\u001B[39m \u001B[38;5;124m\"\u001B[39m\u001B[38;5;124m__call__\u001B[39m\u001B[38;5;124m\"\u001B[39m:\n\u001B[1;32m    462\u001B[0m     f \u001B[38;5;241m=\u001B[39m jax\u001B[38;5;241m.\u001B[39mnamed_call(f, name\u001B[38;5;241m=\u001B[39mmethod_name)\n\u001B[0;32m--> 464\u001B[0m out \u001B[38;5;241m=\u001B[39m \u001B[43mf\u001B[49m\u001B[43m(\u001B[49m\u001B[38;5;241;43m*\u001B[39;49m\u001B[43margs\u001B[49m\u001B[43m,\u001B[49m\u001B[43m \u001B[49m\u001B[38;5;241;43m*\u001B[39;49m\u001B[38;5;241;43m*\u001B[39;49m\u001B[43mkwargs\u001B[49m\u001B[43m)\u001B[49m\n\u001B[1;32m    466\u001B[0m \u001B[38;5;66;03m# Module names are set in the constructor. If `f` is the constructor then\u001B[39;00m\n\u001B[1;32m    467\u001B[0m \u001B[38;5;66;03m# its name will only be set **after** `f` has run. For methods other\u001B[39;00m\n\u001B[1;32m    468\u001B[0m \u001B[38;5;66;03m# than `__init__` we need the name before running in order to wrap their\u001B[39;00m\n\u001B[1;32m    469\u001B[0m \u001B[38;5;66;03m# execution with `named_call`.\u001B[39;00m\n\u001B[1;32m    470\u001B[0m \u001B[38;5;28;01mif\u001B[39;00m module_name \u001B[38;5;129;01mis\u001B[39;00m \u001B[38;5;28;01mNone\u001B[39;00m:\n",
      "File \u001B[0;32m/opt/homebrew/Cellar/python@3.11/3.11.8/Frameworks/Python.framework/Versions/3.11/lib/python3.11/contextlib.py:81\u001B[0m, in \u001B[0;36mContextDecorator.__call__.<locals>.inner\u001B[0;34m(*args, **kwds)\u001B[0m\n\u001B[1;32m     78\u001B[0m \u001B[38;5;129m@wraps\u001B[39m(func)\n\u001B[1;32m     79\u001B[0m \u001B[38;5;28;01mdef\u001B[39;00m \u001B[38;5;21minner\u001B[39m(\u001B[38;5;241m*\u001B[39margs, \u001B[38;5;241m*\u001B[39m\u001B[38;5;241m*\u001B[39mkwds):\n\u001B[1;32m     80\u001B[0m     \u001B[38;5;28;01mwith\u001B[39;00m \u001B[38;5;28mself\u001B[39m\u001B[38;5;241m.\u001B[39m_recreate_cm():\n\u001B[0;32m---> 81\u001B[0m         \u001B[38;5;28;01mreturn\u001B[39;00m \u001B[43mfunc\u001B[49m\u001B[43m(\u001B[49m\u001B[38;5;241;43m*\u001B[39;49m\u001B[43margs\u001B[49m\u001B[43m,\u001B[49m\u001B[43m \u001B[49m\u001B[38;5;241;43m*\u001B[39;49m\u001B[38;5;241;43m*\u001B[39;49m\u001B[43mkwds\u001B[49m\u001B[43m)\u001B[49m\n",
      "File \u001B[0;32m~/projects/pax/.venv/lib/python3.11/site-packages/haiku/_src/module.py:305\u001B[0m, in \u001B[0;36mrun_interceptors\u001B[0;34m(bound_method, method_name, self, orig_class, *args, **kwargs)\u001B[0m\n\u001B[1;32m    303\u001B[0m \u001B[38;5;250m\u001B[39m\u001B[38;5;124;03m\"\"\"Runs any method interceptors or the original method.\"\"\"\u001B[39;00m\n\u001B[1;32m    304\u001B[0m \u001B[38;5;28;01mif\u001B[39;00m \u001B[38;5;129;01mnot\u001B[39;00m interceptor_stack:\n\u001B[0;32m--> 305\u001B[0m   \u001B[38;5;28;01mreturn\u001B[39;00m \u001B[43mbound_method\u001B[49m\u001B[43m(\u001B[49m\u001B[38;5;241;43m*\u001B[39;49m\u001B[43margs\u001B[49m\u001B[43m,\u001B[49m\u001B[43m \u001B[49m\u001B[38;5;241;43m*\u001B[39;49m\u001B[38;5;241;43m*\u001B[39;49m\u001B[43mkwargs\u001B[49m\u001B[43m)\u001B[49m\n\u001B[1;32m    307\u001B[0m ctx \u001B[38;5;241m=\u001B[39m MethodContext(module\u001B[38;5;241m=\u001B[39m\u001B[38;5;28mself\u001B[39m,\n\u001B[1;32m    308\u001B[0m                     method_name\u001B[38;5;241m=\u001B[39mmethod_name,\n\u001B[1;32m    309\u001B[0m                     orig_method\u001B[38;5;241m=\u001B[39mbound_method,\n\u001B[1;32m    310\u001B[0m                     orig_class\u001B[38;5;241m=\u001B[39morig_class)\n\u001B[1;32m    311\u001B[0m interceptor_stack_copy \u001B[38;5;241m=\u001B[39m interceptor_stack\u001B[38;5;241m.\u001B[39mclone()\n",
      "File \u001B[0;32m~/projects/pax/.venv/lib/python3.11/site-packages/haiku/_src/basic.py:126\u001B[0m, in \u001B[0;36mSequential.__call__\u001B[0;34m(self, inputs, *args, **kwargs)\u001B[0m\n\u001B[1;32m    124\u001B[0m \u001B[38;5;28;01mfor\u001B[39;00m i, layer \u001B[38;5;129;01min\u001B[39;00m \u001B[38;5;28menumerate\u001B[39m(\u001B[38;5;28mself\u001B[39m\u001B[38;5;241m.\u001B[39mlayers):\n\u001B[1;32m    125\u001B[0m   \u001B[38;5;28;01mif\u001B[39;00m i \u001B[38;5;241m==\u001B[39m \u001B[38;5;241m0\u001B[39m:\n\u001B[0;32m--> 126\u001B[0m     out \u001B[38;5;241m=\u001B[39m \u001B[43mlayer\u001B[49m\u001B[43m(\u001B[49m\u001B[43mout\u001B[49m\u001B[43m,\u001B[49m\u001B[43m \u001B[49m\u001B[38;5;241;43m*\u001B[39;49m\u001B[43margs\u001B[49m\u001B[43m,\u001B[49m\u001B[43m \u001B[49m\u001B[38;5;241;43m*\u001B[39;49m\u001B[38;5;241;43m*\u001B[39;49m\u001B[43mkwargs\u001B[49m\u001B[43m)\u001B[49m\n\u001B[1;32m    127\u001B[0m   \u001B[38;5;28;01melse\u001B[39;00m:\n\u001B[1;32m    128\u001B[0m     out \u001B[38;5;241m=\u001B[39m layer(out)\n",
      "File \u001B[0;32m~/projects/pax/.venv/lib/python3.11/site-packages/haiku/_src/module.py:464\u001B[0m, in \u001B[0;36mwrap_method.<locals>.wrapped\u001B[0;34m(self, *args, **kwargs)\u001B[0m\n\u001B[1;32m    461\u001B[0m   \u001B[38;5;28;01mif\u001B[39;00m method_name \u001B[38;5;241m!=\u001B[39m \u001B[38;5;124m\"\u001B[39m\u001B[38;5;124m__call__\u001B[39m\u001B[38;5;124m\"\u001B[39m:\n\u001B[1;32m    462\u001B[0m     f \u001B[38;5;241m=\u001B[39m jax\u001B[38;5;241m.\u001B[39mnamed_call(f, name\u001B[38;5;241m=\u001B[39mmethod_name)\n\u001B[0;32m--> 464\u001B[0m out \u001B[38;5;241m=\u001B[39m \u001B[43mf\u001B[49m\u001B[43m(\u001B[49m\u001B[38;5;241;43m*\u001B[39;49m\u001B[43margs\u001B[49m\u001B[43m,\u001B[49m\u001B[43m \u001B[49m\u001B[38;5;241;43m*\u001B[39;49m\u001B[38;5;241;43m*\u001B[39;49m\u001B[43mkwargs\u001B[49m\u001B[43m)\u001B[49m\n\u001B[1;32m    466\u001B[0m \u001B[38;5;66;03m# Module names are set in the constructor. If `f` is the constructor then\u001B[39;00m\n\u001B[1;32m    467\u001B[0m \u001B[38;5;66;03m# its name will only be set **after** `f` has run. For methods other\u001B[39;00m\n\u001B[1;32m    468\u001B[0m \u001B[38;5;66;03m# than `__init__` we need the name before running in order to wrap their\u001B[39;00m\n\u001B[1;32m    469\u001B[0m \u001B[38;5;66;03m# execution with `named_call`.\u001B[39;00m\n\u001B[1;32m    470\u001B[0m \u001B[38;5;28;01mif\u001B[39;00m module_name \u001B[38;5;129;01mis\u001B[39;00m \u001B[38;5;28;01mNone\u001B[39;00m:\n",
      "File \u001B[0;32m/opt/homebrew/Cellar/python@3.11/3.11.8/Frameworks/Python.framework/Versions/3.11/lib/python3.11/contextlib.py:81\u001B[0m, in \u001B[0;36mContextDecorator.__call__.<locals>.inner\u001B[0;34m(*args, **kwds)\u001B[0m\n\u001B[1;32m     78\u001B[0m \u001B[38;5;129m@wraps\u001B[39m(func)\n\u001B[1;32m     79\u001B[0m \u001B[38;5;28;01mdef\u001B[39;00m \u001B[38;5;21minner\u001B[39m(\u001B[38;5;241m*\u001B[39margs, \u001B[38;5;241m*\u001B[39m\u001B[38;5;241m*\u001B[39mkwds):\n\u001B[1;32m     80\u001B[0m     \u001B[38;5;28;01mwith\u001B[39;00m \u001B[38;5;28mself\u001B[39m\u001B[38;5;241m.\u001B[39m_recreate_cm():\n\u001B[0;32m---> 81\u001B[0m         \u001B[38;5;28;01mreturn\u001B[39;00m \u001B[43mfunc\u001B[49m\u001B[43m(\u001B[49m\u001B[38;5;241;43m*\u001B[39;49m\u001B[43margs\u001B[49m\u001B[43m,\u001B[49m\u001B[43m \u001B[49m\u001B[38;5;241;43m*\u001B[39;49m\u001B[38;5;241;43m*\u001B[39;49m\u001B[43mkwds\u001B[49m\u001B[43m)\u001B[49m\n",
      "File \u001B[0;32m~/projects/pax/.venv/lib/python3.11/site-packages/haiku/_src/module.py:305\u001B[0m, in \u001B[0;36mrun_interceptors\u001B[0;34m(bound_method, method_name, self, orig_class, *args, **kwargs)\u001B[0m\n\u001B[1;32m    303\u001B[0m \u001B[38;5;250m\u001B[39m\u001B[38;5;124;03m\"\"\"Runs any method interceptors or the original method.\"\"\"\u001B[39;00m\n\u001B[1;32m    304\u001B[0m \u001B[38;5;28;01mif\u001B[39;00m \u001B[38;5;129;01mnot\u001B[39;00m interceptor_stack:\n\u001B[0;32m--> 305\u001B[0m   \u001B[38;5;28;01mreturn\u001B[39;00m \u001B[43mbound_method\u001B[49m\u001B[43m(\u001B[49m\u001B[38;5;241;43m*\u001B[39;49m\u001B[43margs\u001B[49m\u001B[43m,\u001B[49m\u001B[43m \u001B[49m\u001B[38;5;241;43m*\u001B[39;49m\u001B[38;5;241;43m*\u001B[39;49m\u001B[43mkwargs\u001B[49m\u001B[43m)\u001B[49m\n\u001B[1;32m    307\u001B[0m ctx \u001B[38;5;241m=\u001B[39m MethodContext(module\u001B[38;5;241m=\u001B[39m\u001B[38;5;28mself\u001B[39m,\n\u001B[1;32m    308\u001B[0m                     method_name\u001B[38;5;241m=\u001B[39mmethod_name,\n\u001B[1;32m    309\u001B[0m                     orig_method\u001B[38;5;241m=\u001B[39mbound_method,\n\u001B[1;32m    310\u001B[0m                     orig_class\u001B[38;5;241m=\u001B[39morig_class)\n\u001B[1;32m    311\u001B[0m interceptor_stack_copy \u001B[38;5;241m=\u001B[39m interceptor_stack\u001B[38;5;241m.\u001B[39mclone()\n",
      "File \u001B[0;32m~/projects/pax/.venv/lib/python3.11/site-packages/haiku/_src/nets/mlp.py:115\u001B[0m, in \u001B[0;36mMLP.__call__\u001B[0;34m(self, inputs, dropout_rate, rng)\u001B[0m\n\u001B[1;32m    113\u001B[0m out \u001B[38;5;241m=\u001B[39m inputs\n\u001B[1;32m    114\u001B[0m \u001B[38;5;28;01mfor\u001B[39;00m i, layer \u001B[38;5;129;01min\u001B[39;00m \u001B[38;5;28menumerate\u001B[39m(\u001B[38;5;28mself\u001B[39m\u001B[38;5;241m.\u001B[39mlayers):\n\u001B[0;32m--> 115\u001B[0m   out \u001B[38;5;241m=\u001B[39m \u001B[43mlayer\u001B[49m\u001B[43m(\u001B[49m\u001B[43mout\u001B[49m\u001B[43m)\u001B[49m\n\u001B[1;32m    116\u001B[0m   \u001B[38;5;28;01mif\u001B[39;00m i \u001B[38;5;241m<\u001B[39m (num_layers \u001B[38;5;241m-\u001B[39m \u001B[38;5;241m1\u001B[39m) \u001B[38;5;129;01mor\u001B[39;00m \u001B[38;5;28mself\u001B[39m\u001B[38;5;241m.\u001B[39mactivate_final:\n\u001B[1;32m    117\u001B[0m     \u001B[38;5;66;03m# Only perform dropout if we are activating the output.\u001B[39;00m\n\u001B[1;32m    118\u001B[0m     \u001B[38;5;28;01mif\u001B[39;00m dropout_rate \u001B[38;5;129;01mis\u001B[39;00m \u001B[38;5;129;01mnot\u001B[39;00m \u001B[38;5;28;01mNone\u001B[39;00m:\n",
      "File \u001B[0;32m~/projects/pax/.venv/lib/python3.11/site-packages/haiku/_src/module.py:464\u001B[0m, in \u001B[0;36mwrap_method.<locals>.wrapped\u001B[0;34m(self, *args, **kwargs)\u001B[0m\n\u001B[1;32m    461\u001B[0m   \u001B[38;5;28;01mif\u001B[39;00m method_name \u001B[38;5;241m!=\u001B[39m \u001B[38;5;124m\"\u001B[39m\u001B[38;5;124m__call__\u001B[39m\u001B[38;5;124m\"\u001B[39m:\n\u001B[1;32m    462\u001B[0m     f \u001B[38;5;241m=\u001B[39m jax\u001B[38;5;241m.\u001B[39mnamed_call(f, name\u001B[38;5;241m=\u001B[39mmethod_name)\n\u001B[0;32m--> 464\u001B[0m out \u001B[38;5;241m=\u001B[39m \u001B[43mf\u001B[49m\u001B[43m(\u001B[49m\u001B[38;5;241;43m*\u001B[39;49m\u001B[43margs\u001B[49m\u001B[43m,\u001B[49m\u001B[43m \u001B[49m\u001B[38;5;241;43m*\u001B[39;49m\u001B[38;5;241;43m*\u001B[39;49m\u001B[43mkwargs\u001B[49m\u001B[43m)\u001B[49m\n\u001B[1;32m    466\u001B[0m \u001B[38;5;66;03m# Module names are set in the constructor. If `f` is the constructor then\u001B[39;00m\n\u001B[1;32m    467\u001B[0m \u001B[38;5;66;03m# its name will only be set **after** `f` has run. For methods other\u001B[39;00m\n\u001B[1;32m    468\u001B[0m \u001B[38;5;66;03m# than `__init__` we need the name before running in order to wrap their\u001B[39;00m\n\u001B[1;32m    469\u001B[0m \u001B[38;5;66;03m# execution with `named_call`.\u001B[39;00m\n\u001B[1;32m    470\u001B[0m \u001B[38;5;28;01mif\u001B[39;00m module_name \u001B[38;5;129;01mis\u001B[39;00m \u001B[38;5;28;01mNone\u001B[39;00m:\n",
      "File \u001B[0;32m/opt/homebrew/Cellar/python@3.11/3.11.8/Frameworks/Python.framework/Versions/3.11/lib/python3.11/contextlib.py:81\u001B[0m, in \u001B[0;36mContextDecorator.__call__.<locals>.inner\u001B[0;34m(*args, **kwds)\u001B[0m\n\u001B[1;32m     78\u001B[0m \u001B[38;5;129m@wraps\u001B[39m(func)\n\u001B[1;32m     79\u001B[0m \u001B[38;5;28;01mdef\u001B[39;00m \u001B[38;5;21minner\u001B[39m(\u001B[38;5;241m*\u001B[39margs, \u001B[38;5;241m*\u001B[39m\u001B[38;5;241m*\u001B[39mkwds):\n\u001B[1;32m     80\u001B[0m     \u001B[38;5;28;01mwith\u001B[39;00m \u001B[38;5;28mself\u001B[39m\u001B[38;5;241m.\u001B[39m_recreate_cm():\n\u001B[0;32m---> 81\u001B[0m         \u001B[38;5;28;01mreturn\u001B[39;00m \u001B[43mfunc\u001B[49m\u001B[43m(\u001B[49m\u001B[38;5;241;43m*\u001B[39;49m\u001B[43margs\u001B[49m\u001B[43m,\u001B[49m\u001B[43m \u001B[49m\u001B[38;5;241;43m*\u001B[39;49m\u001B[38;5;241;43m*\u001B[39;49m\u001B[43mkwds\u001B[49m\u001B[43m)\u001B[49m\n",
      "File \u001B[0;32m~/projects/pax/.venv/lib/python3.11/site-packages/haiku/_src/module.py:305\u001B[0m, in \u001B[0;36mrun_interceptors\u001B[0;34m(bound_method, method_name, self, orig_class, *args, **kwargs)\u001B[0m\n\u001B[1;32m    303\u001B[0m \u001B[38;5;250m\u001B[39m\u001B[38;5;124;03m\"\"\"Runs any method interceptors or the original method.\"\"\"\u001B[39;00m\n\u001B[1;32m    304\u001B[0m \u001B[38;5;28;01mif\u001B[39;00m \u001B[38;5;129;01mnot\u001B[39;00m interceptor_stack:\n\u001B[0;32m--> 305\u001B[0m   \u001B[38;5;28;01mreturn\u001B[39;00m \u001B[43mbound_method\u001B[49m\u001B[43m(\u001B[49m\u001B[38;5;241;43m*\u001B[39;49m\u001B[43margs\u001B[49m\u001B[43m,\u001B[49m\u001B[43m \u001B[49m\u001B[38;5;241;43m*\u001B[39;49m\u001B[38;5;241;43m*\u001B[39;49m\u001B[43mkwargs\u001B[49m\u001B[43m)\u001B[49m\n\u001B[1;32m    307\u001B[0m ctx \u001B[38;5;241m=\u001B[39m MethodContext(module\u001B[38;5;241m=\u001B[39m\u001B[38;5;28mself\u001B[39m,\n\u001B[1;32m    308\u001B[0m                     method_name\u001B[38;5;241m=\u001B[39mmethod_name,\n\u001B[1;32m    309\u001B[0m                     orig_method\u001B[38;5;241m=\u001B[39mbound_method,\n\u001B[1;32m    310\u001B[0m                     orig_class\u001B[38;5;241m=\u001B[39morig_class)\n\u001B[1;32m    311\u001B[0m interceptor_stack_copy \u001B[38;5;241m=\u001B[39m interceptor_stack\u001B[38;5;241m.\u001B[39mclone()\n",
      "File \u001B[0;32m~/projects/pax/.venv/lib/python3.11/site-packages/haiku/_src/basic.py:179\u001B[0m, in \u001B[0;36mLinear.__call__\u001B[0;34m(self, inputs, precision)\u001B[0m\n\u001B[1;32m    177\u001B[0m   stddev \u001B[38;5;241m=\u001B[39m \u001B[38;5;241m1.\u001B[39m \u001B[38;5;241m/\u001B[39m np\u001B[38;5;241m.\u001B[39msqrt(\u001B[38;5;28mself\u001B[39m\u001B[38;5;241m.\u001B[39minput_size)\n\u001B[1;32m    178\u001B[0m   w_init \u001B[38;5;241m=\u001B[39m hk\u001B[38;5;241m.\u001B[39minitializers\u001B[38;5;241m.\u001B[39mTruncatedNormal(stddev\u001B[38;5;241m=\u001B[39mstddev)\n\u001B[0;32m--> 179\u001B[0m w \u001B[38;5;241m=\u001B[39m \u001B[43mhk\u001B[49m\u001B[38;5;241;43m.\u001B[39;49m\u001B[43mget_parameter\u001B[49m\u001B[43m(\u001B[49m\u001B[38;5;124;43m\"\u001B[39;49m\u001B[38;5;124;43mw\u001B[39;49m\u001B[38;5;124;43m\"\u001B[39;49m\u001B[43m,\u001B[49m\u001B[43m \u001B[49m\u001B[43m[\u001B[49m\u001B[43minput_size\u001B[49m\u001B[43m,\u001B[49m\u001B[43m \u001B[49m\u001B[43moutput_size\u001B[49m\u001B[43m]\u001B[49m\u001B[43m,\u001B[49m\u001B[43m \u001B[49m\u001B[43mdtype\u001B[49m\u001B[43m,\u001B[49m\u001B[43m \u001B[49m\u001B[43minit\u001B[49m\u001B[38;5;241;43m=\u001B[39;49m\u001B[43mw_init\u001B[49m\u001B[43m)\u001B[49m\n\u001B[1;32m    181\u001B[0m out \u001B[38;5;241m=\u001B[39m jnp\u001B[38;5;241m.\u001B[39mdot(inputs, w, precision\u001B[38;5;241m=\u001B[39mprecision)\n\u001B[1;32m    183\u001B[0m \u001B[38;5;28;01mif\u001B[39;00m \u001B[38;5;28mself\u001B[39m\u001B[38;5;241m.\u001B[39mwith_bias:\n",
      "File \u001B[0;32m~/projects/pax/.venv/lib/python3.11/site-packages/haiku/_src/base.py:658\u001B[0m, in \u001B[0;36mget_parameter\u001B[0;34m(name, shape, dtype, init)\u001B[0m\n\u001B[1;32m    656\u001B[0m     param \u001B[38;5;241m=\u001B[39m run_creators(param_creator_stack, context, shape, dtype, init)\n\u001B[1;32m    657\u001B[0m   \u001B[38;5;28;01melse\u001B[39;00m:\n\u001B[0;32m--> 658\u001B[0m     param \u001B[38;5;241m=\u001B[39m \u001B[43minit\u001B[49m\u001B[43m(\u001B[49m\u001B[43mshape\u001B[49m\u001B[43m,\u001B[49m\u001B[43m \u001B[49m\u001B[43mdtype\u001B[49m\u001B[43m)\u001B[49m\n\u001B[1;32m    659\u001B[0m \u001B[38;5;28;01mexcept\u001B[39;00m MissingRNGError \u001B[38;5;28;01mas\u001B[39;00m e:\n\u001B[1;32m    660\u001B[0m   \u001B[38;5;28;01mif\u001B[39;00m frame\u001B[38;5;241m.\u001B[39mparams_frozen:\n",
      "File \u001B[0;32m~/projects/pax/.venv/lib/python3.11/site-packages/haiku/_src/initializers.py:292\u001B[0m, in \u001B[0;36mOrthogonal.__call__\u001B[0;34m(self, shape, dtype)\u001B[0m\n\u001B[1;32m    290\u001B[0m matrix_shape \u001B[38;5;241m=\u001B[39m (n_rows, n_cols) \u001B[38;5;28;01mif\u001B[39;00m n_rows \u001B[38;5;241m>\u001B[39m n_cols \u001B[38;5;28;01melse\u001B[39;00m (n_cols, n_rows)\n\u001B[1;32m    291\u001B[0m norm_dst \u001B[38;5;241m=\u001B[39m jax\u001B[38;5;241m.\u001B[39mrandom\u001B[38;5;241m.\u001B[39mnormal(hk\u001B[38;5;241m.\u001B[39mnext_rng_key(), matrix_shape, dtype)\n\u001B[0;32m--> 292\u001B[0m q_mat, r_mat \u001B[38;5;241m=\u001B[39m \u001B[43mjnp\u001B[49m\u001B[38;5;241;43m.\u001B[39;49m\u001B[43mlinalg\u001B[49m\u001B[38;5;241;43m.\u001B[39;49m\u001B[43mqr\u001B[49m\u001B[43m(\u001B[49m\u001B[43mnorm_dst\u001B[49m\u001B[43m)\u001B[49m\n\u001B[1;32m    293\u001B[0m \u001B[38;5;66;03m# Enforce Q is uniformly distributed\u001B[39;00m\n\u001B[1;32m    294\u001B[0m q_mat \u001B[38;5;241m*\u001B[39m\u001B[38;5;241m=\u001B[39m jnp\u001B[38;5;241m.\u001B[39msign(jnp\u001B[38;5;241m.\u001B[39mdiag(r_mat))\n",
      "    \u001B[0;31m[... skipping hidden 14 frame]\u001B[0m\n",
      "File \u001B[0;32m~/projects/pax/.venv/lib/python3.11/site-packages/jax/_src/compiler.py:238\u001B[0m, in \u001B[0;36mbackend_compile\u001B[0;34m(backend, module, options, host_callbacks)\u001B[0m\n\u001B[1;32m    233\u001B[0m   \u001B[38;5;28;01mreturn\u001B[39;00m backend\u001B[38;5;241m.\u001B[39mcompile(built_c, compile_options\u001B[38;5;241m=\u001B[39moptions,\n\u001B[1;32m    234\u001B[0m                          host_callbacks\u001B[38;5;241m=\u001B[39mhost_callbacks)\n\u001B[1;32m    235\u001B[0m \u001B[38;5;66;03m# Some backends don't have `host_callbacks` option yet\u001B[39;00m\n\u001B[1;32m    236\u001B[0m \u001B[38;5;66;03m# TODO(sharadmv): remove this fallback when all backends allow `compile`\u001B[39;00m\n\u001B[1;32m    237\u001B[0m \u001B[38;5;66;03m# to take in `host_callbacks`\u001B[39;00m\n\u001B[0;32m--> 238\u001B[0m \u001B[38;5;28;01mreturn\u001B[39;00m \u001B[43mbackend\u001B[49m\u001B[38;5;241;43m.\u001B[39;49m\u001B[43mcompile\u001B[49m\u001B[43m(\u001B[49m\u001B[43mbuilt_c\u001B[49m\u001B[43m,\u001B[49m\u001B[43m \u001B[49m\u001B[43mcompile_options\u001B[49m\u001B[38;5;241;43m=\u001B[39;49m\u001B[43moptions\u001B[49m\u001B[43m)\u001B[49m\n",
      "\u001B[0;31mXlaRuntimeError\u001B[0m: UNKNOWN: /Users/dan/projects/pax/.venv/lib/python3.11/site-packages/haiku/_src/initializers.py:292:19: error: failed to legalize operation 'mhlo.custom_call'\n    q_mat, r_mat = jnp.linalg.qr(norm_dst)\n                  ^\n/Users/dan/projects/pax/.venv/lib/python3.11/site-packages/haiku/_src/base.py:658:16: note: called from\n        param = init(shape, dtype)\n               ^\n/Users/dan/projects/pax/.venv/lib/python3.11/site-packages/haiku/_src/basic.py:179:8: note: called from\n    w = hk.get_parameter(\"w\", [input_size, output_size], dtype, init=w_init)\n       ^\n/Users/dan/projects/pax/.venv/lib/python3.11/site-packages/haiku/_src/module.py:305:11: note: called from\n    return bound_method(*args, **kwargs)\n          ^\n/Users/dan/projects/pax/.venv/lib/python3.11/site-packages/haiku/_src/module.py:464:12: note: called from\n      out = f(*args, **kwargs)\n           ^\n/Users/dan/projects/pax/.venv/lib/python3.11/site-packages/haiku/_src/nets/mlp.py:115:12: note: called from\n      out = layer(out)\n           ^\n/Users/dan/projects/pax/.venv/lib/python3.11/site-packages/haiku/_src/module.py:305:11: note: called from\n    return bound_method(*args, **kwargs)\n          ^\n/Users/dan/projects/pax/.venv/lib/python3.11/site-packages/haiku/_src/module.py:464:12: note: called from\n      out = f(*args, **kwargs)\n           ^\n/Users/dan/projects/pax/.venv/lib/python3.11/site-packages/haiku/_src/basic.py:126:14: note: called from\n        out = layer(out, *args, **kwargs)\n             ^\n/Users/dan/projects/pax/.venv/lib/python3.11/site-packages/haiku/_src/module.py:305:11: note: called from\n    return bound_method(*args, **kwargs)\n          ^\n/Users/dan/projects/pax/.venv/lib/python3.11/site-packages/haiku/_src/initializers.py:292:19: note: see current operation: %4:2 = \"mhlo.custom_call\"(%arg0) {api_version = 1 : i32, backend_config = \"\", call_target_name = \"Qr\", called_computations = [], has_side_effect = false} : (tensor<16x5xf32>) -> (tensor<16x5xf32>, tensor<5xf32>)\n    q_mat, r_mat = jnp.linalg.qr(norm_dst)\n                  ^\n"
     ]
    }
   ],
   "execution_count": 4
  },
  {
   "cell_type": "markdown",
   "metadata": {},
   "source": [
    "Next, we'll define a transition. The transitions is what we're stacking when we're gonna use `jax.lax.scan`."
   ]
  },
  {
   "cell_type": "code",
   "metadata": {},
   "source": [
    "from typing import NamedTuple\n",
    "\n",
    "class Sample(NamedTuple):\n",
    "    \"\"\"Object containing a batch of data\"\"\"\n",
    "\n",
    "    observations: jnp.ndarray\n",
    "    actions: jnp.ndarray\n",
    "    rewards: jnp.ndarray\n",
    "    behavior_log_probs: jnp.ndarray\n",
    "    behavior_values: jnp.ndarray\n",
    "    dones: jnp.ndarray\n",
    "    hiddens: jnp.ndarray"
   ],
   "outputs": [],
   "execution_count": null
  },
  {
   "cell_type": "markdown",
   "metadata": {},
   "source": [
    "Now let's define a very simple rollout. Note that the agent plays against itself in the IPD, which isn't particularly meaningful. If you had a second agent, you'd obviously want to fill in that code accordingly. Please refer to the many runners within the repo that already have that code in place."
   ]
  },
  {
   "cell_type": "code",
   "metadata": {},
   "source": [
    "def _rollout(carry, unused):\n",
    "    \"\"\"Runner for inner episode\"\"\"\n",
    "    (\n",
    "        rng,\n",
    "        obs,\n",
    "        a_state,\n",
    "        a_mem,\n",
    "        env_state,\n",
    "        env_params,\n",
    "    ) = carry\n",
    "    # unpack rngs\n",
    "    rngs = jax.random.split(rng, num_envs+1)\n",
    "    rngs, rng = rngs[:-1], rngs[-1]\n",
    "\n",
    "    action, a_state, new_a_mem = agent.batch_policy(\n",
    "        a_state,\n",
    "        obs[0],\n",
    "        a_mem,\n",
    "    )\n",
    "\n",
    "    next_obs, env_state, rewards, done, info = env.step(\n",
    "        rngs,\n",
    "        env_state,\n",
    "        (action, action),\n",
    "        env_params,\n",
    "    )\n",
    "\n",
    "    traj = Sample(\n",
    "        obs[0],\n",
    "        action,\n",
    "        rewards[0],\n",
    "        new_a_mem.extras[\"log_probs\"],\n",
    "        new_a_mem.extras[\"values\"],\n",
    "        done,\n",
    "        a_mem.hidden,\n",
    "    )\n",
    "\n",
    "    return (\n",
    "        rng,\n",
    "        next_obs,\n",
    "        a_state,\n",
    "        new_a_mem,\n",
    "        env_state,\n",
    "        env_params,\n",
    "    ), traj"
   ],
   "outputs": [],
   "execution_count": null
  },
  {
   "cell_type": "markdown",
   "metadata": {},
   "source": [
    "Now we can put everything together and train the agent. This already covers almost everything there is to know in `pax`. All the runners are just modified versions of this notebook, where initialisations are centralized in `experiments.py`."
   ]
  },
  {
   "cell_type": "code",
   "metadata": {
    "ExecuteTime": {
     "end_time": "2024-04-25T15:10:45.349358Z",
     "start_time": "2024-04-25T15:10:45.260059Z"
    }
   },
   "source": [
    "rng = jax.random.PRNGKey(42)\n",
    "init_hidden = jnp.zeros((agent_args.hidden_size))\n",
    "rng, _rng = jax.random.split(rng)\n",
    "a_state, a_memory = agent.make_initial_state(_rng, init_hidden)\n",
    "rngs = jax.random.split(rng, num_envs)\n",
    "obs, env_state = env.reset(rngs, env_params)\n",
    "\n",
    "for _ in range(10):\n",
    "    carry =  (rng, obs, a_state, a_memory, env_state, env_params)\n",
    "    final_timestep, batch_trajectory = jax.lax.scan(\n",
    "        _rollout,\n",
    "        carry,\n",
    "        None,\n",
    "        10,\n",
    "    )\n",
    "\n",
    "    rng, obs, a_state, a_memory, env_state, env_params = final_timestep\n",
    "\n",
    "    a_state, a_memory, stats = agent.update(\n",
    "        batch_trajectory, obs[0], a_state, a_memory\n",
    "    )"
   ],
   "outputs": [
    {
     "ename": "NameError",
     "evalue": "name 'jax' is not defined",
     "output_type": "error",
     "traceback": [
      "\u001B[0;31m---------------------------------------------------------------------------\u001B[0m",
      "\u001B[0;31mNameError\u001B[0m                                 Traceback (most recent call last)",
      "Cell \u001B[0;32mIn[1], line 1\u001B[0m\n\u001B[0;32m----> 1\u001B[0m rng \u001B[38;5;241m=\u001B[39m \u001B[43mjax\u001B[49m\u001B[38;5;241m.\u001B[39mrandom\u001B[38;5;241m.\u001B[39mPRNGKey(\u001B[38;5;241m42\u001B[39m)\n\u001B[1;32m      2\u001B[0m init_hidden \u001B[38;5;241m=\u001B[39m jnp\u001B[38;5;241m.\u001B[39mzeros((agent_args\u001B[38;5;241m.\u001B[39mhidden_size))\n\u001B[1;32m      3\u001B[0m rng, _rng \u001B[38;5;241m=\u001B[39m jax\u001B[38;5;241m.\u001B[39mrandom\u001B[38;5;241m.\u001B[39msplit(rng)\n",
      "\u001B[0;31mNameError\u001B[0m: name 'jax' is not defined"
     ]
    }
   ],
   "execution_count": 1
  }
 ],
 "metadata": {
  "kernelspec": {
   "display_name": "venv",
   "language": "python",
   "name": "python3"
  },
  "language_info": {
   "codemirror_mode": {
    "name": "ipython",
    "version": 3
   },
   "file_extension": ".py",
   "mimetype": "text/x-python",
   "name": "python",
   "nbconvert_exporter": "python",
   "pygments_lexer": "ipython3",
   "version": "3.9.16"
  }
 },
 "nbformat": 4,
 "nbformat_minor": 2
}
